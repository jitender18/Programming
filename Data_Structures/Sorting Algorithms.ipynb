{
 "cells": [
  {
   "cell_type": "markdown",
   "metadata": {},
   "source": [
    "# Bubble Sort - Time - n, n^2, n^2  |  Space - O(1)"
   ]
  },
  {
   "cell_type": "code",
   "execution_count": 1,
   "metadata": {},
   "outputs": [
    {
     "name": "stdout",
     "output_type": "stream",
     "text": [
      "Enter numbers separated by a comma:1,4,13,3,-5,-20,50\n",
      "-20,-5,1,3,4,13,50\n"
     ]
    }
   ],
   "source": [
    "from __future__ import print_function     # Before every algo\n",
    "def bubble_sort(collection):\n",
    "    \n",
    "    length = len(collection)\n",
    "    for i in range(length-1):\n",
    "        swapped = False\n",
    "        for j in range(length-1-i):\n",
    "            if collection[j] > collection[j+1]:\n",
    "                swapped = True\n",
    "                collection[j], collection[j+1] = collection[j+1], collection[j]\n",
    "        if not swapped: break  # Stop iteration if the collection is sorted.\n",
    "    return collection\n",
    "\n",
    "\n",
    "if __name__ == '__main__':\n",
    "    try:\n",
    "        raw_input          # Python 2\n",
    "    except NameError:\n",
    "        raw_input = input  # Python 3\n",
    "    user_input = raw_input('Enter numbers separated by a comma:').strip()\n",
    "    unsorted = [int(item) for item in user_input.split(',')]\n",
    "    print(*bubble_sort(unsorted), sep=',')\n"
   ]
  },
  {
   "cell_type": "markdown",
   "metadata": {},
   "source": [
    "# Quick Sort  -  Time - n logn, n logn, n^2  |  Space - logn"
   ]
  },
  {
   "cell_type": "code",
   "execution_count": 2,
   "metadata": {},
   "outputs": [
    {
     "name": "stdout",
     "output_type": "stream",
     "text": [
      "Enter numbers separated by a comma:\n",
      "-2, -5, -45\n",
      "[-45, -5, -2]\n"
     ]
    }
   ],
   "source": [
    "def quick_sort(ARRAY):\n",
    "\n",
    "    ARRAY_LENGTH = len(ARRAY)\n",
    "    if( ARRAY_LENGTH <= 1):\n",
    "        return ARRAY\n",
    "    else:\n",
    "        PIVOT = ARRAY[0]\n",
    "        GREATER = [ element for element in ARRAY[1:] if element > PIVOT ]\n",
    "        LESSER = [ element for element in ARRAY[1:] if element <= PIVOT ]\n",
    "        return quick_sort(LESSER) + [PIVOT] + quick_sort(GREATER)\n",
    "\n",
    "\n",
    "if __name__ == '__main__':\n",
    "    try:\n",
    "        raw_input          # Python 2\n",
    "    except NameError:\n",
    "        raw_input = input  # Python 3\n",
    "\n",
    "    user_input = raw_input('Enter numbers separated by a comma:\\n').strip()\n",
    "    unsorted = [ int(item) for item in user_input.split(',') ]\n",
    "    print( quick_sort(unsorted) )\n"
   ]
  },
  {
   "cell_type": "markdown",
   "metadata": {},
   "source": [
    "# Quick Sort 3 partition "
   ]
  },
  {
   "cell_type": "code",
   "execution_count": 3,
   "metadata": {},
   "outputs": [
    {
     "name": "stdout",
     "output_type": "stream",
     "text": [
      "Enter numbers separated by a comma:\n",
      "5,1,-4,-10,5,10,50,45\n",
      "[-10, -4, 1, 5, 5, 10, 45, 50]\n"
     ]
    }
   ],
   "source": [
    "def quick_sort_3partition(sorting, left, right):\n",
    "    if right <= left:\n",
    "        return\n",
    "    a = i = left\n",
    "    b = right\n",
    "    pivot = sorting[left]\n",
    "    while i <= b:\n",
    "        if sorting[i] < pivot:\n",
    "            sorting[a], sorting[i] = sorting[i], sorting[a]\n",
    "            a += 1\n",
    "            i += 1\n",
    "        elif sorting[i] > pivot:\n",
    "            sorting[b], sorting[i] = sorting[i], sorting[b]\n",
    "            b -= 1\n",
    "        else:\n",
    "            i += 1\n",
    "    quick_sort_3partition(sorting, left, a - 1)\n",
    "    quick_sort_3partition(sorting, b + 1, right)\n",
    "\n",
    "if __name__ == '__main__':\n",
    "    try:\n",
    "        raw_input          # Python 2\n",
    "    except NameError:\n",
    "        raw_input = input  # Python 3\n",
    "\n",
    "    user_input = raw_input('Enter numbers separated by a comma:\\n').strip()\n",
    "    unsorted = [ int(item) for item in user_input.split(',') ]\n",
    "    quick_sort_3partition(unsorted,0,len(unsorted)-1)\n",
    "    print(unsorted)\n"
   ]
  },
  {
   "cell_type": "markdown",
   "metadata": {},
   "source": [
    "# Heap Sort - Time - n logn | Space - 1"
   ]
  },
  {
   "cell_type": "code",
   "execution_count": 4,
   "metadata": {},
   "outputs": [
    {
     "name": "stdout",
     "output_type": "stream",
     "text": [
      "Enter numbers separated by a comma:\n",
      "0, 5, 3, 2, 2\n",
      "[0, 2, 2, 3, 5]\n"
     ]
    }
   ],
   "source": [
    "def heapify(unsorted, index, heap_size):\n",
    "    largest = index\n",
    "    left_index = 2 * index + 1\n",
    "    right_index = 2 * index + 2\n",
    "    if left_index < heap_size and unsorted[left_index] > unsorted[largest]:\n",
    "        largest = left_index\n",
    "\n",
    "    if right_index < heap_size and unsorted[right_index] > unsorted[largest]:\n",
    "        largest = right_index\n",
    "\n",
    "    if largest != index:\n",
    "        unsorted[largest], unsorted[index] = unsorted[index], unsorted[largest]\n",
    "        heapify(unsorted, largest, heap_size)\n",
    "\n",
    "\n",
    "def heap_sort(unsorted):\n",
    "    \n",
    "    n = len(unsorted)\n",
    "    for i in range(n // 2 - 1, -1, -1):\n",
    "        heapify(unsorted, i, n)\n",
    "    for i in range(n - 1, 0, -1):\n",
    "        unsorted[0], unsorted[i] = unsorted[i], unsorted[0]\n",
    "        heapify(unsorted, 0, i)\n",
    "    return unsorted\n",
    "\n",
    "if __name__ == '__main__':\n",
    "    try:\n",
    "        raw_input          # Python 2\n",
    "    except NameError:\n",
    "        raw_input = input  # Python 3\n",
    "\n",
    "    user_input = raw_input('Enter numbers separated by a comma:\\n').strip()\n",
    "    unsorted = [int(item) for item in user_input.split(',')]\n",
    "    print(heap_sort(unsorted))\n"
   ]
  },
  {
   "cell_type": "markdown",
   "metadata": {},
   "source": [
    "# Selection Sort - Time - n^2  |  Space - O(1)"
   ]
  },
  {
   "cell_type": "code",
   "execution_count": 5,
   "metadata": {},
   "outputs": [
    {
     "name": "stdout",
     "output_type": "stream",
     "text": [
      "Enter numbers separated by a comma:\n",
      "5,1,-4,-10,5,10,50,45\n",
      "[-10, -4, 1, 5, 5, 10, 45, 50]\n"
     ]
    }
   ],
   "source": [
    "def selection_sort(collection):\n",
    "\n",
    "    length = len(collection)\n",
    "    for i in range(length - 1):\n",
    "        least = i\n",
    "        for k in range(i + 1, length):\n",
    "            if collection[k] < collection[least]:\n",
    "                least = k\n",
    "        collection[least], collection[i] = (\n",
    "            collection[i], collection[least]\n",
    "        )\n",
    "    return collection\n",
    "\n",
    "\n",
    "if __name__ == '__main__':\n",
    "    try:\n",
    "        raw_input          # Python 2\n",
    "    except NameError:\n",
    "        raw_input = input  # Python 3\n",
    "\n",
    "    user_input = raw_input('Enter numbers separated by a comma:\\n').strip()\n",
    "    unsorted = [int(item) for item in user_input.split(',')]\n",
    "    print(selection_sort(unsorted))\n"
   ]
  },
  {
   "cell_type": "markdown",
   "metadata": {},
   "source": [
    "# Counting Sort - Time - O(n+k)  |  Space - O(k)"
   ]
  },
  {
   "cell_type": "code",
   "execution_count": 6,
   "metadata": {
    "scrolled": true
   },
   "outputs": [
    {
     "name": "stdout",
     "output_type": "stream",
     "text": [
      "Enter numbers separated by a comma:\n",
      "5,1,-4,-10,5,10,50,45\n",
      "[-10, -4, 1, 5, 5, 10, 45, 50]\n"
     ]
    }
   ],
   "source": [
    "def counting_sort(collection):\n",
    "\n",
    "    # if the collection is empty, returns empty\n",
    "    if collection == []:\n",
    "        return []\n",
    "\n",
    "    # get some information about the collection\n",
    "    coll_len = len(collection)\n",
    "    coll_max = max(collection)\n",
    "    coll_min = min(collection)\n",
    "\n",
    "    # create the counting array\n",
    "    counting_arr_length = coll_max + 1 - coll_min\n",
    "    counting_arr = [0] * counting_arr_length\n",
    "\n",
    "    # count how much a number appears in the collection\n",
    "    for number in collection:\n",
    "        counting_arr[number - coll_min] += 1\n",
    "\n",
    "    # sum each position with it's predecessors. now, counting_arr[i] tells\n",
    "    # us how many elements <= i has in the collection\n",
    "    for i in range(1, counting_arr_length):\n",
    "        counting_arr[i] = counting_arr[i] + counting_arr[i-1]\n",
    "\n",
    "    # create the output collection\n",
    "    ordered = [0] * coll_len\n",
    "\n",
    "    # place the elements in the output, respecting the original order (stable\n",
    "    # sort) from end to begin, updating counting_arr\n",
    "    for i in reversed(range(0, coll_len)):\n",
    "        ordered[counting_arr[collection[i] - coll_min]-1] = collection[i]\n",
    "        counting_arr[collection[i] - coll_min] -= 1\n",
    "\n",
    "    return ordered\n",
    "\n",
    "def counting_sort_string(string):\n",
    "    return ''.join([chr(i) for i in counting_sort([ord(c) for c in string])])\n",
    "\n",
    "\n",
    "if __name__ == '__main__':\n",
    "    # Test string sort\n",
    "    assert \"eghhiiinrsssttt\" == counting_sort_string(\"thisisthestring\")\n",
    "\n",
    "    try:\n",
    "        raw_input          # Python 2\n",
    "    except NameError:\n",
    "        raw_input = input  # Python 3\n",
    "\n",
    "    user_input = raw_input('Enter numbers separated by a comma:\\n').strip()\n",
    "    unsorted = [int(item) for item in user_input.split(',')]\n",
    "    print(counting_sort(unsorted))\n"
   ]
  },
  {
   "cell_type": "markdown",
   "metadata": {},
   "source": [
    "# Insertion Sort - Time -  n, n^2, n^2  |   Space - O(1)"
   ]
  },
  {
   "cell_type": "code",
   "execution_count": 9,
   "metadata": {},
   "outputs": [
    {
     "name": "stdout",
     "output_type": "stream",
     "text": [
      "Enter numbers separated by a comma:\n",
      "5,1,-4,-10,5,10,50,45\n",
      "[-10, -4, 1, 5, 5, 10, 45, 50]\n"
     ]
    }
   ],
   "source": [
    "def insertion_sort(collection):\n",
    "\n",
    "    for index in range(1, len(collection)):\n",
    "        while index > 0 and collection[index - 1] > collection[index]:\n",
    "            collection[index], collection[index - 1] = collection[index - 1], collection[index]\n",
    "            index -= 1\n",
    "\n",
    "    return collection\n",
    "\n",
    "if __name__ == '__main__':\n",
    "    try:\n",
    "        raw_input          # Python 2\n",
    "    except NameError:\n",
    "        raw_input = input  # Python 3\n",
    "\n",
    "    user_input = raw_input('Enter numbers separated by a comma:\\n').strip()\n",
    "    unsorted = [int(item) for item in user_input.split(',')]\n",
    "    print(insertion_sort(unsorted))\n"
   ]
  },
  {
   "cell_type": "markdown",
   "metadata": {},
   "source": [
    "# Bucket Sort  -  Time - n+k, n+k, n^2  |  Space - O(n)"
   ]
  },
  {
   "cell_type": "code",
   "execution_count": 11,
   "metadata": {},
   "outputs": [
    {
     "name": "stdout",
     "output_type": "stream",
     "text": [
      "[2, 3, 4, 5, 12, 12, 23, 56, 81, 95]\n"
     ]
    }
   ],
   "source": [
    "from __future__ import print_function\n",
    "#from insertion_sort import insertion_sort\n",
    "import math\n",
    "\n",
    "DEFAULT_BUCKET_SIZE = 5\n",
    "\n",
    "def bucketSort(myList, bucketSize=DEFAULT_BUCKET_SIZE):\n",
    "    if(len(myList) == 0):\n",
    "        print('You don\\'t have any elements in array!')\n",
    "\n",
    "    minValue = myList[0]\n",
    "    maxValue = myList[0]\n",
    "\n",
    "    # For finding minimum and maximum values\n",
    "    for i in range(0, len(myList)):\n",
    "        if myList[i] < minValue:\n",
    "            minValue = myList[i]\n",
    "        elif myList[i] > maxValue:\n",
    "            maxValue = myList[i]\n",
    "\n",
    "    # Initialize buckets\n",
    "    bucketCount = math.floor((maxValue - minValue) / bucketSize) + 1\n",
    "    buckets = []\n",
    "    for i in range(0, bucketCount):\n",
    "        buckets.append([])\n",
    "\n",
    "    # For putting values in buckets\n",
    "    for i in range(0, len(myList)):\n",
    "        buckets[math.floor((myList[i] - minValue) / bucketSize)].append(myList[i])\n",
    "\n",
    "    # Sort buckets and place back into input array\n",
    "    sortedArray = []\n",
    "    for i in range(0, len(buckets)):\n",
    "        insertion_sort(buckets[i])\n",
    "        for j in range(0, len(buckets[i])):\n",
    "            sortedArray.append(buckets[i][j])\n",
    "\n",
    "    return sortedArray\n",
    "\n",
    "if __name__ == '__main__':\n",
    "    sortedArray = bucketSort([12, 23, 4, 5, 3, 2, 12, 81, 56, 95])\n",
    "    print(sortedArray)\n"
   ]
  },
  {
   "cell_type": "markdown",
   "metadata": {},
   "source": [
    "# Tree Sort - Time - n logn, nlogn, n^2  |  Space - O(n)"
   ]
  },
  {
   "cell_type": "code",
   "execution_count": 12,
   "metadata": {},
   "outputs": [
    {
     "name": "stdout",
     "output_type": "stream",
     "text": [
      "[1, 2, 3, 9, 10, 13, 14]\n"
     ]
    }
   ],
   "source": [
    "# Tree_sort algorithm\n",
    "# Build a BST and in order traverse.\n",
    "class node():\n",
    "    # BST data structure\n",
    "    def __init__(self, val):\n",
    "        self.val = val\n",
    "        self.left = None \n",
    "        self.right = None \n",
    "    \n",
    "    def insert(self,val):\n",
    "        if self.val:\n",
    "            if val < self.val:\n",
    "                if self.left is None:\n",
    "                    self.left = node(val)\n",
    "                else:\n",
    "                    self.left.insert(val)\n",
    "            elif val > self.val:\n",
    "                if self.right is None:\n",
    "                    self.right = node(val)\n",
    "                else:\n",
    "                    self.right.insert(val)\n",
    "        else:\n",
    "            self.val = val\n",
    "\n",
    "def inorder(root, res):\n",
    "    # Recursive travesal \n",
    "    if root:\n",
    "        inorder(root.left,res)\n",
    "        res.append(root.val)\n",
    "        inorder(root.right,res)\n",
    "\n",
    "def treesort(arr):\n",
    "    # Build BST\n",
    "    if len(arr) == 0:\n",
    "        return arr\n",
    "    root = node(arr[0])\n",
    "    for i in range(1,len(arr)):\n",
    "        root.insert(arr[i])\n",
    "    # Traverse BST in order. \n",
    "    res = []\n",
    "    inorder(root,res)\n",
    "    return res\n",
    "\n",
    "print(treesort([10,1,3,2,9,14,13]))"
   ]
  },
  {
   "cell_type": "markdown",
   "metadata": {},
   "source": [
    "# Tim Sort - Time -  n, n logn, n logn  |  Space - O(n)"
   ]
  },
  {
   "cell_type": "code",
   "execution_count": 13,
   "metadata": {},
   "outputs": [
    {
     "name": "stdout",
     "output_type": "stream",
     "text": [
      "[-4, 0, 3, 5, 5, 7, 9, 10, 46, 92, 178]\n"
     ]
    }
   ],
   "source": [
    "def binary_search(lst, item, start, end):\n",
    "    if start == end:\n",
    "        if lst[start] > item:\n",
    "            return start\n",
    "        else:\n",
    "            return start + 1\n",
    "    if start > end:\n",
    "        return start\n",
    "\n",
    "    mid = (start + end) // 2\n",
    "    if lst[mid] < item:\n",
    "        return binary_search(lst, item, mid + 1, end)\n",
    "    elif lst[mid] > item:\n",
    "        return binary_search(lst, item, start, mid - 1)\n",
    "    else:\n",
    "        return mid\n",
    "\n",
    "def insertion_sort(lst):\n",
    "    length = len(lst)\n",
    "\n",
    "    for index in range(1, length):\n",
    "        value = lst[index]\n",
    "        pos = binary_search(lst, value, 0, index - 1)\n",
    "        lst = lst[:pos] + [value] + lst[pos:index] + lst[index+1:]\n",
    "\n",
    "    return lst\n",
    "\n",
    "def merge(left, right):\n",
    "    if not left:\n",
    "        return right\n",
    "\n",
    "    if not right:\n",
    "        return left\n",
    "\n",
    "    if left[0] < right[0]:\n",
    "        return [left[0]] + merge(left[1:], right)\n",
    "\n",
    "    return [right[0]] + merge(left, right[1:])\n",
    "\n",
    "def timsort(lst):\n",
    "    runs, sorted_runs = [], []\n",
    "    length = len(lst)\n",
    "    new_run = [lst[0]]\n",
    "    sorted_array = []\n",
    "\n",
    "    for i in range(1, length):\n",
    "        if i == length - 1:\n",
    "            new_run.append(lst[i])\n",
    "            runs.append(new_run)\n",
    "            break\n",
    "\n",
    "        if lst[i] < lst[i - 1]:\n",
    "            if not new_run:\n",
    "                runs.append([lst[i - 1]])\n",
    "                new_run.append(lst[i])\n",
    "            else:\n",
    "                runs.append(new_run)\n",
    "                new_run = []\n",
    "        else:\n",
    "            new_run.append(lst[i])\n",
    "\n",
    "    for run in runs:\n",
    "        sorted_runs.append(insertion_sort(run))\n",
    "\n",
    "    for run in sorted_runs:\n",
    "        sorted_array = merge(sorted_array, run)\n",
    "\n",
    "    return sorted_array\n",
    "\n",
    "def main():\n",
    "\n",
    "    lst = [5,9,10,3,-4,5,178,92,46,-18,0,7]\n",
    "    sorted_lst = timsort(lst)\n",
    "    print(sorted_lst)\n",
    "\n",
    "if __name__ == '__main__':\n",
    "    main()"
   ]
  },
  {
   "cell_type": "markdown",
   "metadata": {},
   "source": [
    "# Shell Sort - Time - n logn, (nlogn)^2, _  |  Space - O(1)"
   ]
  },
  {
   "cell_type": "code",
   "execution_count": 14,
   "metadata": {},
   "outputs": [
    {
     "name": "stdout",
     "output_type": "stream",
     "text": [
      "Enter numbers separated by a comma:\n",
      "5,9,10,3,-4,5,178,92,46,-18,0,7\n",
      "[-18, -4, 0, 3, 5, 5, 7, 9, 10, 46, 92, 178]\n"
     ]
    }
   ],
   "source": [
    "def shell_sort(collection):\n",
    "\n",
    "    # Marcin Ciura's gap sequence\n",
    "    gaps = [701, 301, 132, 57, 23, 10, 4, 1]\n",
    "\n",
    "    for gap in gaps:\n",
    "        i = gap\n",
    "        while i < len(collection):\n",
    "            temp = collection[i]\n",
    "            j = i\n",
    "            while j >= gap and collection[j - gap] > temp:\n",
    "                collection[j] = collection[j - gap]\n",
    "                j -= gap\n",
    "            collection[j] = temp\n",
    "            i += 1\n",
    "\n",
    "    return collection\n",
    "\n",
    "if __name__ == '__main__':\n",
    "    try:\n",
    "        raw_input          # Python 2\n",
    "    except NameError:\n",
    "        raw_input = input  # Python 3\n",
    "\n",
    "    user_input = raw_input('Enter numbers separated by a comma:\\n').strip()\n",
    "    unsorted = [int(item) for item in user_input.split(',')]\n",
    "    print(shell_sort(unsorted))"
   ]
  },
  {
   "cell_type": "markdown",
   "metadata": {},
   "source": [
    "# Radix Sort - Time - nk  |  Space - n+k"
   ]
  },
  {
   "cell_type": "code",
   "execution_count": 15,
   "metadata": {},
   "outputs": [],
   "source": [
    "def radixsort(lst):\n",
    "    RADIX = 10\n",
    "    placement = 1\n",
    "\n",
    "    # get the maximum number\n",
    "    max_digit = max(lst)\n",
    "\n",
    "    while placement < max_digit:\n",
    "      # declare and initialize buckets\n",
    "      buckets = [list() for _ in range( RADIX )]\n",
    "\n",
    "      # split lst between lists\n",
    "      for i in lst:\n",
    "        tmp = int((i / placement) % RADIX)\n",
    "        buckets[tmp].append(i)\n",
    "\n",
    "      # empty lists into lst array\n",
    "      a = 0\n",
    "      for b in range( RADIX ):\n",
    "        buck = buckets[b]\n",
    "        for i in buck:\n",
    "          lst[a] = i\n",
    "          a += 1\n",
    "\n",
    "      # move to next\n",
    "      placement *= RADIX"
   ]
  }
 ],
 "metadata": {
  "kernelspec": {
   "display_name": "Python 3",
   "language": "python",
   "name": "python3"
  },
  "language_info": {
   "codemirror_mode": {
    "name": "ipython",
    "version": 3
   },
   "file_extension": ".py",
   "mimetype": "text/x-python",
   "name": "python",
   "nbconvert_exporter": "python",
   "pygments_lexer": "ipython3",
   "version": "3.6.5"
  }
 },
 "nbformat": 4,
 "nbformat_minor": 2
}
